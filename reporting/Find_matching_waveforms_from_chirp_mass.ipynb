{
 "cells": [
  {
   "cell_type": "code",
   "execution_count": 1,
   "metadata": {},
   "outputs": [],
   "source": [
    "# prints a list of all known BNS sims with a chirp mass within .01\n",
    "# solar masses of a given chirp mass. used to find quick matches\n",
    "# to any detected BNS mergers by their chirp mass"
   ]
  },
  {
   "cell_type": "code",
   "execution_count": 26,
   "metadata": {},
   "outputs": [
    {
     "name": "stdout",
     "output_type": "stream",
     "text": [
      "TARGET CHIRP MASS: 1.4\n",
      "\n",
      "MATCH NAME:                              CHIRP MASS:\n",
      "===========                              ===========\n",
      "CoRe:BAM:0016:R01 ---------------------- 1.392906147240134\n",
      "CoRe:BAM:0052:R01 ---------------------- 1.3929009239367542\n",
      "CoRe:BAM:0090:R01 ---------------------- 1.3929052766895706\n",
      "CoRe:THC:0009:R01 ---------------------- 1.3928809012737988\n",
      "CoRe:THC:0026:R01 ---------------------- 1.3928809012737988\n",
      "\n",
      "CLOSEST MATCH:   CoRe:BAM:0016:R01\n",
      "CHIRP MASS:      1.392906147240134\n"
     ]
    }
   ],
   "source": [
    "import lalsimulation as lalsim\n",
    "from pycbc import pnutils\n",
    "import h5py\n",
    "import os\n",
    "import lal\n",
    "from pycbc.filter import match\n",
    "from pycbc import waveform\n",
    "from pylab import plot,show,xlim\n",
    "\n",
    "filepath='/home/dwhite/GWPAC/h5_conversions/converted_files/'\n",
    "datafiles = []\n",
    "new_datafiles = []\n",
    "list = []\n",
    "findChirp = 1.4\n",
    "theOne = ''\n",
    "theOneChirp = 100\n",
    "\n",
    "# gather all .h5 files in directory (only sims should be saved as\n",
    "# .h5 in this directory, so we shouldn't need additional checks)\n",
    "for (dirpath, dirnames, filenames) in os.walk(filepath):\n",
    "    for file in filenames:\n",
    "        if '.h5' in file:\n",
    "            datafiles.append(os.path.join(dirpath, file))\n",
    "\n",
    "# get rid of duplicates (e.g. different resolutions of same physical system)\n",
    "# this is honestly sloppy coding; I should probably be combining this function\n",
    "# with the above so I don't need to write the data to memory more than once\n",
    "for file1 in datafiles:\n",
    "    duplicate = 'no'\n",
    "    pieces1 = (file1.split('/'))[-1].split('_')\n",
    "    for file2 in new_datafiles:\n",
    "        if (pieces[0] + '_' + pieces1[1]) in file2:\n",
    "            duplicate = 'yes'     \n",
    "    if duplicate == 'no':\n",
    "        new_datafiles.append(file1)\n",
    "\n",
    "# find all matches within range, and track the closest match\n",
    "for file in new_datafiles:\n",
    "    fd = h5py.File(file, 'r')\n",
    "    m1 = fd.attrs['mass1-msol']\n",
    "    m2 = fd.attrs['mass2-msol']\n",
    "    chirpMass = ((m1 * m2)**(.6))/((m1 + m2)**(.2))\n",
    "    \n",
    "    if abs(findChirp - chirpMass) <= .01:\n",
    "        list.append([file, chirpMass])\n",
    "        if abs(findChirp - chirpMass) < abs(findChirp - theOneChirp):\n",
    "            theOneChirp = chirpMass\n",
    "            theOne = str(file)\n",
    "\n",
    "# print results to screen\n",
    "print 'TARGET CHIRP MASS: ' + str(findChirp)\n",
    "print str('')\n",
    "print str('MATCH NAME: ').ljust(40, ' ') + ' ' + str('CHIRP MASS:')\n",
    "print str('').ljust(11, '=') + str('').ljust(30, ' ') + str('').ljust(11, '=')\n",
    "for thingy in list:\n",
    "    fd = h5py.File(thingy[0], 'r')\n",
    "    print str(fd.attrs['name'] + ' ').ljust(40, '-') + ' ' + str(thingy[1])\n",
    "print str('')\n",
    "print 'CLOSEST MATCH:   ' + str(h5py.File(theOne, 'r').attrs['name'])\n",
    "print 'CHIRP MASS:      ' + str(theOneChirp)"
   ]
  },
  {
   "cell_type": "code",
   "execution_count": null,
   "metadata": {},
   "outputs": [],
   "source": []
  }
 ],
 "metadata": {
  "kernelspec": {
   "display_name": "Python 2",
   "language": "python",
   "name": "python2"
  },
  "language_info": {
   "codemirror_mode": {
    "name": "ipython",
    "version": 2
   },
   "file_extension": ".py",
   "mimetype": "text/x-python",
   "name": "python",
   "nbconvert_exporter": "python",
   "pygments_lexer": "ipython2",
   "version": "2.7.16"
  }
 },
 "nbformat": 4,
 "nbformat_minor": 2
}
